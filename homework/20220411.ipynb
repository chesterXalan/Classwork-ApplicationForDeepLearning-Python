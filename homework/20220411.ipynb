{
 "cells": [
  {
   "cell_type": "code",
   "execution_count": 1,
   "id": "3972c3ee",
   "metadata": {},
   "outputs": [],
   "source": [
    "from keras.datasets import cifar10\n",
    "import numpy as np\n",
    "np.random.seed(10)\n",
    "from keras.utils import np_utils"
   ]
  },
  {
   "cell_type": "code",
   "execution_count": 2,
   "id": "fce0c7e5",
   "metadata": {},
   "outputs": [
    {
     "name": "stdout",
     "output_type": "stream",
     "text": [
      "train data: images: (50000, 32, 32, 3) labels: (50000, 1)\n",
      " test data: images: (10000, 32, 32, 3) labels: (10000, 1)\n"
     ]
    }
   ],
   "source": [
    "(x_img_train, y_label_train), (x_img_test, y_label_test) = cifar10.load_data()\n",
    "\n",
    "print('train data:', 'images:', x_img_train.shape,\n",
    "                     'labels:', y_label_train.shape)\n",
    "print(' test data:', 'images:', x_img_test.shape,\n",
    "                     'labels:', y_label_test.shape)"
   ]
  },
  {
   "cell_type": "code",
   "execution_count": 3,
   "id": "c9fd7675",
   "metadata": {},
   "outputs": [],
   "source": [
    "x_img_train_normalize = x_img_train.astype('float32') / 255.0\n",
    "x_img_test_normalize = x_img_test.astype('float32') / 255.0\n",
    "\n",
    "y_label_train_OneHot = np_utils.to_categorical(y_label_train)\n",
    "y_label_test_OneHot = np_utils.to_categorical(y_label_test)"
   ]
  },
  {
   "cell_type": "code",
   "execution_count": 4,
   "id": "51dd8f87",
   "metadata": {},
   "outputs": [],
   "source": [
    "from keras.models import Sequential\n",
    "from keras.layers import Dense, Dropout, Flatten\n",
    "from keras.layers import Conv2D, MaxPooling2D"
   ]
  },
  {
   "cell_type": "code",
   "execution_count": 26,
   "id": "6bd8d5c8",
   "metadata": {},
   "outputs": [
    {
     "name": "stdout",
     "output_type": "stream",
     "text": [
      "Model: \"CNN\"\n",
      "_________________________________________________________________\n",
      "Layer (type)                 Output Shape              Param #   \n",
      "=================================================================\n",
      "conv2d_9 (Conv2D)            (None, 32, 32, 36)        2736      \n",
      "_________________________________________________________________\n",
      "dropout_9 (Dropout)          (None, 32, 32, 36)        0         \n",
      "_________________________________________________________________\n",
      "max_pooling2d_9 (MaxPooling2 (None, 16, 16, 36)        0         \n",
      "_________________________________________________________________\n",
      "conv2d_10 (Conv2D)           (None, 16, 16, 72)        23400     \n",
      "_________________________________________________________________\n",
      "dropout_10 (Dropout)         (None, 16, 16, 72)        0         \n",
      "_________________________________________________________________\n",
      "max_pooling2d_10 (MaxPooling (None, 8, 8, 72)          0         \n",
      "_________________________________________________________________\n",
      "conv2d_11 (Conv2D)           (None, 8, 8, 108)         70092     \n",
      "_________________________________________________________________\n",
      "dropout_11 (Dropout)         (None, 8, 8, 108)         0         \n",
      "_________________________________________________________________\n",
      "max_pooling2d_11 (MaxPooling (None, 4, 4, 108)         0         \n",
      "_________________________________________________________________\n",
      "flatten_3 (Flatten)          (None, 1728)              0         \n",
      "_________________________________________________________________\n",
      "dense_6 (Dense)              (None, 1000)              1729000   \n",
      "_________________________________________________________________\n",
      "dropout_12 (Dropout)         (None, 1000)              0         \n",
      "_________________________________________________________________\n",
      "dense_7 (Dense)              (None, 10)                10010     \n",
      "=================================================================\n",
      "Total params: 1,835,238\n",
      "Trainable params: 1,835,238\n",
      "Non-trainable params: 0\n",
      "_________________________________________________________________\n",
      "None\n"
     ]
    }
   ],
   "source": [
    "model = Sequential(name='CNN')\n",
    "model.add(Conv2D(filters=36, kernel_size=(5, 5),\n",
    "                 input_shape=(32, 32, 3),\n",
    "                 activation='relu',\n",
    "                 padding='same'))\n",
    "model.add(Dropout(0.25))\n",
    "model.add(MaxPooling2D((2, 2)))\n",
    "\n",
    "model.add(Conv2D(filters=72, kernel_size=(3, 3),\n",
    "                 activation='relu', padding='same'))\n",
    "model.add(Dropout(0.2))\n",
    "model.add(MaxPooling2D((2, 2)))\n",
    "\n",
    "model.add(Conv2D(filters=108, kernel_size=(3, 3),\n",
    "                 activation='relu', padding='same'))\n",
    "model.add(Dropout(0.2))\n",
    "model.add(MaxPooling2D((2, 2)))\n",
    "\n",
    "model.add(Flatten())\n",
    "model.add(Dense(1000, activation='relu'))\n",
    "model.add(Dropout(0.2))\n",
    "model.add(Dense(10, activation='softmax'))\n",
    "print(model.summary())"
   ]
  },
  {
   "cell_type": "code",
   "execution_count": 27,
   "id": "92a2abc4",
   "metadata": {},
   "outputs": [],
   "source": [
    "model.compile(loss='categorical_crossentropy',\n",
    "              optimizer='adam', metrics=['accuracy'])"
   ]
  },
  {
   "cell_type": "code",
   "execution_count": 28,
   "id": "60409bdc",
   "metadata": {},
   "outputs": [
    {
     "name": "stdout",
     "output_type": "stream",
     "text": [
      "Epoch 1/50\n",
      "40/40 - 3s - loss: 1.9563 - accuracy: 0.2930 - val_loss: 1.7220 - val_accuracy: 0.4220\n",
      "Epoch 2/50\n",
      "40/40 - 1s - loss: 1.5172 - accuracy: 0.4548 - val_loss: 1.5465 - val_accuracy: 0.4812\n",
      "Epoch 3/50\n",
      "40/40 - 1s - loss: 1.3632 - accuracy: 0.5098 - val_loss: 1.5076 - val_accuracy: 0.4909\n",
      "Epoch 4/50\n",
      "40/40 - 1s - loss: 1.2702 - accuracy: 0.5472 - val_loss: 1.3741 - val_accuracy: 0.5545\n",
      "Epoch 5/50\n",
      "40/40 - 1s - loss: 1.1741 - accuracy: 0.5866 - val_loss: 1.2746 - val_accuracy: 0.5829\n",
      "Epoch 6/50\n",
      "40/40 - 1s - loss: 1.0857 - accuracy: 0.6161 - val_loss: 1.2159 - val_accuracy: 0.6159\n",
      "Epoch 7/50\n",
      "40/40 - 1s - loss: 1.0348 - accuracy: 0.6345 - val_loss: 1.1598 - val_accuracy: 0.6255\n",
      "Epoch 8/50\n",
      "40/40 - 1s - loss: 0.9740 - accuracy: 0.6563 - val_loss: 1.1117 - val_accuracy: 0.6425\n",
      "Epoch 9/50\n",
      "40/40 - 1s - loss: 0.9336 - accuracy: 0.6704 - val_loss: 1.1191 - val_accuracy: 0.6270\n",
      "Epoch 10/50\n",
      "40/40 - 1s - loss: 0.8886 - accuracy: 0.6895 - val_loss: 1.0625 - val_accuracy: 0.6428\n",
      "Epoch 11/50\n",
      "40/40 - 1s - loss: 0.8513 - accuracy: 0.7015 - val_loss: 1.0149 - val_accuracy: 0.6820\n",
      "Epoch 12/50\n",
      "40/40 - 1s - loss: 0.8051 - accuracy: 0.7180 - val_loss: 0.9461 - val_accuracy: 0.7033\n",
      "Epoch 13/50\n",
      "40/40 - 1s - loss: 0.7823 - accuracy: 0.7268 - val_loss: 1.0737 - val_accuracy: 0.6244\n",
      "Epoch 14/50\n",
      "40/40 - 1s - loss: 0.8223 - accuracy: 0.7131 - val_loss: 0.9459 - val_accuracy: 0.6933\n",
      "Epoch 15/50\n",
      "40/40 - 1s - loss: 0.7316 - accuracy: 0.7449 - val_loss: 0.8850 - val_accuracy: 0.7137\n",
      "Epoch 16/50\n",
      "40/40 - 1s - loss: 0.6781 - accuracy: 0.7621 - val_loss: 0.8790 - val_accuracy: 0.7185\n",
      "Epoch 17/50\n",
      "40/40 - 1s - loss: 0.6495 - accuracy: 0.7766 - val_loss: 0.8548 - val_accuracy: 0.7219\n",
      "Epoch 18/50\n",
      "40/40 - 1s - loss: 0.6148 - accuracy: 0.7851 - val_loss: 0.8413 - val_accuracy: 0.7294\n",
      "Epoch 19/50\n",
      "40/40 - 1s - loss: 0.5927 - accuracy: 0.7932 - val_loss: 0.9307 - val_accuracy: 0.6817\n",
      "Epoch 20/50\n",
      "40/40 - 1s - loss: 0.5836 - accuracy: 0.7979 - val_loss: 0.9165 - val_accuracy: 0.6908\n",
      "Epoch 21/50\n",
      "40/40 - 1s - loss: 0.5434 - accuracy: 0.8100 - val_loss: 0.8277 - val_accuracy: 0.7230\n",
      "Epoch 22/50\n",
      "40/40 - 1s - loss: 0.5299 - accuracy: 0.8142 - val_loss: 0.7733 - val_accuracy: 0.7413\n",
      "Epoch 23/50\n",
      "40/40 - 1s - loss: 0.4845 - accuracy: 0.8320 - val_loss: 0.8052 - val_accuracy: 0.7288\n",
      "Epoch 24/50\n",
      "40/40 - 1s - loss: 0.4688 - accuracy: 0.8373 - val_loss: 0.7572 - val_accuracy: 0.7495\n",
      "Epoch 25/50\n",
      "40/40 - 1s - loss: 0.4386 - accuracy: 0.8487 - val_loss: 0.7906 - val_accuracy: 0.7297\n",
      "Epoch 26/50\n",
      "40/40 - 1s - loss: 0.4299 - accuracy: 0.8502 - val_loss: 0.7425 - val_accuracy: 0.7516\n",
      "Epoch 27/50\n",
      "40/40 - 1s - loss: 0.3951 - accuracy: 0.8650 - val_loss: 0.8477 - val_accuracy: 0.7113\n",
      "Epoch 28/50\n",
      "40/40 - 1s - loss: 0.3945 - accuracy: 0.8627 - val_loss: 0.7563 - val_accuracy: 0.7403\n",
      "Epoch 29/50\n",
      "40/40 - 1s - loss: 0.3544 - accuracy: 0.8768 - val_loss: 0.7570 - val_accuracy: 0.7463\n",
      "Epoch 30/50\n",
      "40/40 - 1s - loss: 0.3279 - accuracy: 0.8855 - val_loss: 0.7683 - val_accuracy: 0.7385\n",
      "Epoch 31/50\n",
      "40/40 - 1s - loss: 0.3026 - accuracy: 0.8949 - val_loss: 0.7347 - val_accuracy: 0.7549\n",
      "Epoch 32/50\n",
      "40/40 - 1s - loss: 0.2864 - accuracy: 0.9015 - val_loss: 0.7431 - val_accuracy: 0.7457\n",
      "Epoch 33/50\n",
      "40/40 - 1s - loss: 0.2795 - accuracy: 0.9027 - val_loss: 0.7394 - val_accuracy: 0.7490\n",
      "Epoch 34/50\n",
      "40/40 - 1s - loss: 0.2564 - accuracy: 0.9124 - val_loss: 0.7107 - val_accuracy: 0.7581\n",
      "Epoch 35/50\n",
      "40/40 - 1s - loss: 0.2313 - accuracy: 0.9202 - val_loss: 0.8276 - val_accuracy: 0.7201\n",
      "Epoch 36/50\n",
      "40/40 - 1s - loss: 0.2493 - accuracy: 0.9122 - val_loss: 0.7619 - val_accuracy: 0.7391\n",
      "Epoch 37/50\n",
      "40/40 - 1s - loss: 0.2086 - accuracy: 0.9276 - val_loss: 0.7219 - val_accuracy: 0.7594\n",
      "Epoch 38/50\n",
      "40/40 - 1s - loss: 0.2026 - accuracy: 0.9304 - val_loss: 0.7256 - val_accuracy: 0.7524\n",
      "Epoch 39/50\n",
      "40/40 - 1s - loss: 0.2014 - accuracy: 0.9307 - val_loss: 0.7562 - val_accuracy: 0.7464\n",
      "Epoch 40/50\n",
      "40/40 - 1s - loss: 0.1790 - accuracy: 0.9392 - val_loss: 0.7573 - val_accuracy: 0.7463\n",
      "Epoch 41/50\n",
      "40/40 - 1s - loss: 0.1749 - accuracy: 0.9399 - val_loss: 0.7284 - val_accuracy: 0.7563\n",
      "Epoch 42/50\n",
      "40/40 - 1s - loss: 0.1587 - accuracy: 0.9460 - val_loss: 0.7401 - val_accuracy: 0.7571\n",
      "Epoch 43/50\n",
      "40/40 - 1s - loss: 0.1403 - accuracy: 0.9536 - val_loss: 0.7523 - val_accuracy: 0.7594\n",
      "Epoch 44/50\n",
      "40/40 - 1s - loss: 0.1231 - accuracy: 0.9597 - val_loss: 0.8082 - val_accuracy: 0.7487\n",
      "Epoch 45/50\n",
      "40/40 - 1s - loss: 0.1365 - accuracy: 0.9535 - val_loss: 0.7723 - val_accuracy: 0.7507\n",
      "Epoch 46/50\n",
      "40/40 - 1s - loss: 0.1380 - accuracy: 0.9541 - val_loss: 0.7765 - val_accuracy: 0.7493\n",
      "Epoch 47/50\n",
      "40/40 - 1s - loss: 0.1180 - accuracy: 0.9610 - val_loss: 0.7713 - val_accuracy: 0.7531\n",
      "Epoch 48/50\n",
      "40/40 - 1s - loss: 0.1056 - accuracy: 0.9645 - val_loss: 0.7612 - val_accuracy: 0.7616\n",
      "Epoch 49/50\n",
      "40/40 - 1s - loss: 0.1032 - accuracy: 0.9671 - val_loss: 0.7882 - val_accuracy: 0.7539\n",
      "Epoch 50/50\n",
      "40/40 - 1s - loss: 0.0960 - accuracy: 0.9678 - val_loss: 0.7712 - val_accuracy: 0.7604\n"
     ]
    }
   ],
   "source": [
    "train_history = model.fit(x_img_train_normalize, y_label_train_OneHot,\n",
    "                          validation_split=0.2,\n",
    "                          epochs=50, batch_size=1024, verbose=2)"
   ]
  },
  {
   "cell_type": "code",
   "execution_count": 8,
   "id": "9910d0d9",
   "metadata": {},
   "outputs": [],
   "source": [
    "import matplotlib.pyplot as plt\n",
    "def show_train_history(tr_history, train, valid):\n",
    "    plt.plot(tr_history.history[train])\n",
    "    plt.plot(tr_history.history[valid])\n",
    "    plt.title('Train History')\n",
    "    plt.xlabel('epoch'); plt.ylabel(train)\n",
    "    plt.legend(['train', 'validation'], loc='upper left')"
   ]
  },
  {
   "cell_type": "code",
   "execution_count": 29,
   "id": "275f8c4d",
   "metadata": {},
   "outputs": [
    {
     "data": {
      "image/png": "[encoded data removed]",
      "text/plain": [
       "<Figure size 432x288 with 1 Axes>"
      ]
     },
     "metadata": {
      "needs_background": "light"
     },
     "output_type": "display_data"
    }
   ],
   "source": [
    "show_train_history(train_history, 'accuracy', 'val_accuracy')"
   ]
  },
  {
   "cell_type": "code",
   "execution_count": 30,
   "id": "e9092652",
   "metadata": {},
   "outputs": [
    {
     "data": {
      "image/png": "[encoded data removed]",
      "text/plain": [
       "<Figure size 432x288 with 1 Axes>"
      ]
     },
     "metadata": {
      "needs_background": "light"
     },
     "output_type": "display_data"
    }
   ],
   "source": [
    "show_train_history(train_history, 'loss', 'val_loss')"
   ]
  },
  {
   "cell_type": "code",
   "execution_count": 41,
   "id": "b9e071d7",
   "metadata": {},
   "outputs": [
    {
     "name": "stdout",
     "output_type": "stream",
     "text": [
      "313/313 [==============================] - 1s 2ms/step - loss: 0.7787 - accuracy: 0.7566\n",
      "lose = 0.7786931395530701\n",
      "accuracy = 0.756600022315979\n"
     ]
    }
   ],
   "source": [
    "scores = model.evaluate(x_img_test_normalize, y_label_test_OneHot)\n",
    "print('loss =', scores[0])\n",
    "print('accuracy =', scores[1])"
   ]
  },
  {
   "cell_type": "code",
   "execution_count": 32,
   "id": "689ca986",
   "metadata": {},
   "outputs": [
    {
     "name": "stderr",
     "output_type": "stream",
     "text": [
      "D:\\Program Files\\anaconda\\envs\\tensorflow\\lib\\site-packages\\keras\\engine\\sequential.py:450: UserWarning: `model.predict_classes()` is deprecated and will be removed after 2021-01-01. Please use instead:* `np.argmax(model.predict(x), axis=-1)`,   if your model does multi-class classification   (e.g. if it uses a `softmax` last-layer activation).* `(model.predict(x) > 0.5).astype(\"int32\")`,   if your model does binary classification   (e.g. if it uses a `sigmoid` last-layer activation).\n",
      "  warnings.warn('`model.predict_classes()` is deprecated and '\n"
     ]
    }
   ],
   "source": [
    "prediction = model.predict_classes(x_img_test_normalize)"
   ]
  },
  {
   "cell_type": "code",
   "execution_count": 33,
   "id": "f245fffc",
   "metadata": {},
   "outputs": [],
   "source": [
    "label_dict = {0:'airplane', 1:'automobile', 2:'bird', 3:'cat', 4:'deer',\n",
    "              5:'dog', 6:'frog', 7:'horse', 8:'ship', 9:'truck'}\n",
    "def plot_image_labels_prediction(images, labels, prediction, idx, num=10):\n",
    "    fig = plt.gcf()\n",
    "    fig.set_size_inches(12, 14)\n",
    "    if num > 25: num = 25\n",
    "    for i in range(num):\n",
    "        ax = plt.subplot(5, 5, 1+i)\n",
    "        ax.imshow(images[idx], cmap='binary')\n",
    "        \n",
    "        title = str(i) + '. ' + label_dict[labels[i][0]]\n",
    "        if len(prediction) > 0:\n",
    "            title += ' => ' + label_dict[labels[i][0]]\n",
    "            \n",
    "        ax.set_title(title, fontsize=10)\n",
    "        ax.set_xticks([]); ax.set_yticks([])\n",
    "        idx += 1\n",
    "    plt.show()"
   ]
  },
  {
   "cell_type": "code",
   "execution_count": 34,
   "id": "5b7ccc10",
   "metadata": {},
   "outputs": [
    {
     "data": {
      "image/png": "[encoded data removed]",
      "text/plain": [
       "<Figure size 864x1008 with 10 Axes>"
      ]
     },
     "metadata": {},
     "output_type": "display_data"
    }
   ],
   "source": [
    "plot_image_labels_prediction(x_img_test, y_label_test, prediction, 0)"
   ]
  },
  {
   "cell_type": "code",
   "execution_count": 35,
   "id": "26170dc0",
   "metadata": {},
   "outputs": [],
   "source": [
    "predicted_probability = model.predict(x_img_test_normalize)"
   ]
  },
  {
   "cell_type": "code",
   "execution_count": 36,
   "id": "dccda946",
   "metadata": {},
   "outputs": [],
   "source": [
    "def show_predicted_probability(y, prediction,\n",
    "                               x_img, predicted_probability, i):\n",
    "    print('label:', label_dict[y[i][0]],\n",
    "          'predict:', label_dict[prediction[i]])\n",
    "    plt.figure(figsize=(2, 2))\n",
    "    plt.imshow(np.reshape(x_img_test[i], (32, 32, 3)))\n",
    "    plt.show()\n",
    "    for j in range(10):\n",
    "        print(label_dict[j] + \n",
    "              ' probability: %1.9f' % predicted_probability[i][j])"
   ]
  },
  {
   "cell_type": "code",
   "execution_count": 38,
   "id": "b2833c94",
   "metadata": {},
   "outputs": [
    {
     "name": "stdout",
     "output_type": "stream",
     "text": [
      "label: cat predict: cat\n"
     ]
    },
    {
     "data": {
      "image/png": "[encoded data removed]",
      "text/plain": [
       "<Figure size 144x144 with 1 Axes>"
      ]
     },
     "metadata": {
      "needs_background": "light"
     },
     "output_type": "display_data"
    },
    {
     "name": "stdout",
     "output_type": "stream",
     "text": [
      "airplane probability: 0.000032470\n",
      "automobile probability: 0.000001270\n",
      "bird probability: 0.000032149\n",
      "cat probability: 0.992258012\n",
      "deer probability: 0.000000223\n",
      "dog probability: 0.007357721\n",
      "frog probability: 0.000026166\n",
      "horse probability: 0.000006428\n",
      "ship probability: 0.000278846\n",
      "truck probability: 0.000006681\n"
     ]
    }
   ],
   "source": [
    "show_predicted_probability(y_label_test, prediction,\n",
    "                           x_img_test, predicted_probability, 0)"
   ]
  },
  {
   "cell_type": "code",
   "execution_count": 39,
   "id": "f6ff5d11",
   "metadata": {},
   "outputs": [
    {
     "name": "stdout",
     "output_type": "stream",
     "text": [
      "{0: 'airplane', 1: 'automobile', 2: 'bird', 3: 'cat', 4: 'deer', 5: 'dog', 6: 'frog', 7: 'horse', 8: 'ship', 9: 'truck'}\n"
     ]
    },
    {
     "data": {
      "text/html": [
       "<div>\n",
       "<style scoped>\n",
       "    .dataframe tbody tr th:only-of-type {\n",
       "        vertical-align: middle;\n",
       "    }\n",
       "\n",
       "    .dataframe tbody tr th {\n",
       "        vertical-align: top;\n",
       "    }\n",
       "\n",
       "    .dataframe thead th {\n",
       "        text-align: right;\n",
       "    }\n",
       "</style>\n",
       "<table border=\"1\" class=\"dataframe\">\n",
       "  <thead>\n",
       "    <tr style=\"text-align: right;\">\n",
       "      <th>predict</th>\n",
       "      <th>0</th>\n",
       "      <th>1</th>\n",
       "      <th>2</th>\n",
       "      <th>3</th>\n",
       "      <th>4</th>\n",
       "      <th>5</th>\n",
       "      <th>6</th>\n",
       "      <th>7</th>\n",
       "      <th>8</th>\n",
       "      <th>9</th>\n",
       "    </tr>\n",
       "    <tr>\n",
       "      <th>label</th>\n",
       "      <th></th>\n",
       "      <th></th>\n",
       "      <th></th>\n",
       "      <th></th>\n",
       "      <th></th>\n",
       "      <th></th>\n",
       "      <th></th>\n",
       "      <th></th>\n",
       "      <th></th>\n",
       "      <th></th>\n",
       "    </tr>\n",
       "  </thead>\n",
       "  <tbody>\n",
       "    <tr>\n",
       "      <th>0</th>\n",
       "      <td>777</td>\n",
       "      <td>16</td>\n",
       "      <td>77</td>\n",
       "      <td>12</td>\n",
       "      <td>16</td>\n",
       "      <td>5</td>\n",
       "      <td>9</td>\n",
       "      <td>9</td>\n",
       "      <td>54</td>\n",
       "      <td>25</td>\n",
       "    </tr>\n",
       "    <tr>\n",
       "      <th>1</th>\n",
       "      <td>10</td>\n",
       "      <td>880</td>\n",
       "      <td>9</td>\n",
       "      <td>5</td>\n",
       "      <td>2</td>\n",
       "      <td>6</td>\n",
       "      <td>9</td>\n",
       "      <td>2</td>\n",
       "      <td>14</td>\n",
       "      <td>63</td>\n",
       "    </tr>\n",
       "    <tr>\n",
       "      <th>2</th>\n",
       "      <td>46</td>\n",
       "      <td>5</td>\n",
       "      <td>749</td>\n",
       "      <td>32</td>\n",
       "      <td>50</td>\n",
       "      <td>59</td>\n",
       "      <td>37</td>\n",
       "      <td>12</td>\n",
       "      <td>6</td>\n",
       "      <td>4</td>\n",
       "    </tr>\n",
       "    <tr>\n",
       "      <th>3</th>\n",
       "      <td>22</td>\n",
       "      <td>18</td>\n",
       "      <td>128</td>\n",
       "      <td>515</td>\n",
       "      <td>49</td>\n",
       "      <td>152</td>\n",
       "      <td>65</td>\n",
       "      <td>23</td>\n",
       "      <td>7</td>\n",
       "      <td>21</td>\n",
       "    </tr>\n",
       "    <tr>\n",
       "      <th>4</th>\n",
       "      <td>15</td>\n",
       "      <td>4</td>\n",
       "      <td>113</td>\n",
       "      <td>43</td>\n",
       "      <td>680</td>\n",
       "      <td>47</td>\n",
       "      <td>45</td>\n",
       "      <td>40</td>\n",
       "      <td>7</td>\n",
       "      <td>6</td>\n",
       "    </tr>\n",
       "    <tr>\n",
       "      <th>5</th>\n",
       "      <td>12</td>\n",
       "      <td>4</td>\n",
       "      <td>63</td>\n",
       "      <td>139</td>\n",
       "      <td>40</td>\n",
       "      <td>683</td>\n",
       "      <td>26</td>\n",
       "      <td>23</td>\n",
       "      <td>3</td>\n",
       "      <td>7</td>\n",
       "    </tr>\n",
       "    <tr>\n",
       "      <th>6</th>\n",
       "      <td>3</td>\n",
       "      <td>7</td>\n",
       "      <td>53</td>\n",
       "      <td>38</td>\n",
       "      <td>22</td>\n",
       "      <td>26</td>\n",
       "      <td>840</td>\n",
       "      <td>2</td>\n",
       "      <td>3</td>\n",
       "      <td>6</td>\n",
       "    </tr>\n",
       "    <tr>\n",
       "      <th>7</th>\n",
       "      <td>18</td>\n",
       "      <td>4</td>\n",
       "      <td>45</td>\n",
       "      <td>33</td>\n",
       "      <td>52</td>\n",
       "      <td>65</td>\n",
       "      <td>4</td>\n",
       "      <td>766</td>\n",
       "      <td>3</td>\n",
       "      <td>10</td>\n",
       "    </tr>\n",
       "    <tr>\n",
       "      <th>8</th>\n",
       "      <td>38</td>\n",
       "      <td>29</td>\n",
       "      <td>21</td>\n",
       "      <td>9</td>\n",
       "      <td>3</td>\n",
       "      <td>9</td>\n",
       "      <td>4</td>\n",
       "      <td>3</td>\n",
       "      <td>873</td>\n",
       "      <td>11</td>\n",
       "    </tr>\n",
       "    <tr>\n",
       "      <th>9</th>\n",
       "      <td>34</td>\n",
       "      <td>82</td>\n",
       "      <td>24</td>\n",
       "      <td>12</td>\n",
       "      <td>3</td>\n",
       "      <td>11</td>\n",
       "      <td>1</td>\n",
       "      <td>6</td>\n",
       "      <td>24</td>\n",
       "      <td>803</td>\n",
       "    </tr>\n",
       "  </tbody>\n",
       "</table>\n",
       "</div>"
      ],
      "text/plain": [
       "predict    0    1    2    3    4    5    6    7    8    9\n",
       "label                                                    \n",
       "0        777   16   77   12   16    5    9    9   54   25\n",
       "1         10  880    9    5    2    6    9    2   14   63\n",
       "2         46    5  749   32   50   59   37   12    6    4\n",
       "3         22   18  128  515   49  152   65   23    7   21\n",
       "4         15    4  113   43  680   47   45   40    7    6\n",
       "5         12    4   63  139   40  683   26   23    3    7\n",
       "6          3    7   53   38   22   26  840    2    3    6\n",
       "7         18    4   45   33   52   65    4  766    3   10\n",
       "8         38   29   21    9    3    9    4    3  873   11\n",
       "9         34   82   24   12    3   11    1    6   24  803"
      ]
     },
     "execution_count": 39,
     "metadata": {},
     "output_type": "execute_result"
    }
   ],
   "source": [
    "import pandas as pd\n",
    "print(label_dict)\n",
    "pd.crosstab(y_label_test.reshape(-1), prediction,\n",
    "            rownames=['label'], colnames=['predict'])"
   ]
  },
  {
   "cell_type": "code",
   "execution_count": 40,
   "id": "5f568ddc",
   "metadata": {},
   "outputs": [],
   "source": [
    "model.save('model/mdl_20220411.h5')"
   ]
  }
 ],
 "metadata": {
  "kernelspec": {
   "display_name": "Python 3 (ipykernel)",
   "language": "python",
   "name": "python3"
  },
  "language_info": {
   "codemirror_mode": {
    "name": "ipython",
    "version": 3
   },
   "file_extension": ".py",
   "mimetype": "text/x-python",
   "name": "python",
   "nbconvert_exporter": "python",
   "pygments_lexer": "ipython3",
   "version": "3.8.12"
  }
 },
 "nbformat": 4,
 "nbformat_minor": 5
}
