{
 "cells": [
  {
   "cell_type": "code",
   "execution_count": 1,
   "id": "d824e1c8",
   "metadata": {},
   "outputs": [
    {
     "name": "stderr",
     "output_type": "stream",
     "text": [
      "Using TensorFlow backend.\n"
     ]
    }
   ],
   "source": [
    "from keras.utils import np_utils\n",
    "from keras.datasets import mnist\n",
    "from keras.models import Sequential\n",
    "from keras.layers import Dense\n",
    "import matplotlib.pyplot as plt"
   ]
  },
  {
   "cell_type": "code",
   "execution_count": 2,
   "id": "36835ebd",
   "metadata": {},
   "outputs": [],
   "source": [
    "(x_train_image, y_train_label), (x_test_image, y_test_label) = mnist.load_data()\n",
    "\n",
    "x_train = x_train_image.reshape(60000, 784).astype('float32')\n",
    "x_test = x_test_image.reshape(10000, 784).astype('float32')\n",
    "\n",
    "x_train_normalize = x_train / 255\n",
    "x_test_normalize = x_test / 255\n",
    "\n",
    "y_train_onehot = np_utils.to_categorical(y_train_label)\n",
    "y_test_onehot = np_utils.to_categorical(y_test_label)"
   ]
  },
  {
   "cell_type": "code",
   "execution_count": 69,
   "id": "9794c492",
   "metadata": {},
   "outputs": [
    {
     "name": "stdout",
     "output_type": "stream",
     "text": [
      "Model: \"MLP\"\n",
      "_________________________________________________________________\n",
      "Layer (type)                 Output Shape              Param #   \n",
      "=================================================================\n",
      "dense_47 (Dense)             (None, 128)               100480    \n",
      "_________________________________________________________________\n",
      "dense_48 (Dense)             (None, 128)               16512     \n",
      "_________________________________________________________________\n",
      "dense_49 (Dense)             (None, 10)                1290      \n",
      "=================================================================\n",
      "Total params: 118,282\n",
      "Trainable params: 118,282\n",
      "Non-trainable params: 0\n",
      "_________________________________________________________________\n",
      "None\n"
     ]
    }
   ],
   "source": [
    "model = Sequential(name='MLP')\n",
    "model.add(Dense(units=128,\n",
    "                input_dim=784,\n",
    "                kernel_initializer='normal',\n",
    "                activation='relu'))\n",
    "model.add(Dense(units=128,\n",
    "                input_dim=128,\n",
    "                kernel_initializer='normal',\n",
    "                activation='sigmoid'))\n",
    "model.add(Dense(units=10,\n",
    "                kernel_initializer='normal',\n",
    "                activation='softmax'))\n",
    "print(model.summary())\n",
    "\n",
    "model.compile(loss='categorical_crossentropy',\n",
    "              optimizer='adam',\n",
    "              metrics=['accuracy'])"
   ]
  },
  {
   "cell_type": "code",
   "execution_count": 70,
   "id": "d3cc658d",
   "metadata": {
    "scrolled": true
   },
   "outputs": [
    {
     "name": "stdout",
     "output_type": "stream",
     "text": [
      "Train on 48000 samples, validate on 12000 samples\n",
      "Epoch 1/30\n",
      " - 1s - loss: 0.9541 - accuracy: 0.7619 - val_loss: 0.3605 - val_accuracy: 0.9068\n",
      "Epoch 2/30\n",
      " - 1s - loss: 0.3020 - accuracy: 0.9173 - val_loss: 0.2310 - val_accuracy: 0.9362\n",
      "Epoch 3/30\n",
      " - 1s - loss: 0.2108 - accuracy: 0.9402 - val_loss: 0.1817 - val_accuracy: 0.9482\n",
      "Epoch 4/30\n",
      " - 1s - loss: 0.1607 - accuracy: 0.9536 - val_loss: 0.1487 - val_accuracy: 0.9572\n",
      "Epoch 5/30\n",
      " - 1s - loss: 0.1299 - accuracy: 0.9626 - val_loss: 0.1307 - val_accuracy: 0.9628\n",
      "Epoch 6/30\n",
      " - 1s - loss: 0.1082 - accuracy: 0.9693 - val_loss: 0.1197 - val_accuracy: 0.9638\n",
      "Epoch 7/30\n",
      " - 1s - loss: 0.0932 - accuracy: 0.9736 - val_loss: 0.1085 - val_accuracy: 0.9669\n",
      "Epoch 8/30\n",
      " - 1s - loss: 0.0794 - accuracy: 0.9774 - val_loss: 0.1041 - val_accuracy: 0.9694\n",
      "Epoch 9/30\n",
      " - 1s - loss: 0.0690 - accuracy: 0.9803 - val_loss: 0.0974 - val_accuracy: 0.9703\n",
      "Epoch 10/30\n",
      " - 1s - loss: 0.0603 - accuracy: 0.9826 - val_loss: 0.0921 - val_accuracy: 0.9718\n",
      "Epoch 11/30\n",
      " - 1s - loss: 0.0521 - accuracy: 0.9858 - val_loss: 0.0915 - val_accuracy: 0.9720\n",
      "Epoch 12/30\n",
      " - 1s - loss: 0.0464 - accuracy: 0.9874 - val_loss: 0.0901 - val_accuracy: 0.9725\n",
      "Epoch 13/30\n",
      " - 1s - loss: 0.0399 - accuracy: 0.9895 - val_loss: 0.0864 - val_accuracy: 0.9741\n",
      "Epoch 14/30\n",
      " - 1s - loss: 0.0348 - accuracy: 0.9912 - val_loss: 0.0857 - val_accuracy: 0.9737\n",
      "Epoch 15/30\n",
      " - 1s - loss: 0.0309 - accuracy: 0.9923 - val_loss: 0.0839 - val_accuracy: 0.9750\n",
      "Epoch 16/30\n",
      " - 1s - loss: 0.0268 - accuracy: 0.9939 - val_loss: 0.0836 - val_accuracy: 0.9748\n",
      "Epoch 17/30\n",
      " - 1s - loss: 0.0233 - accuracy: 0.9949 - val_loss: 0.0832 - val_accuracy: 0.9755\n",
      "Epoch 18/30\n",
      " - 1s - loss: 0.0201 - accuracy: 0.9954 - val_loss: 0.0829 - val_accuracy: 0.9747\n",
      "Epoch 19/30\n",
      " - 1s - loss: 0.0173 - accuracy: 0.9965 - val_loss: 0.0840 - val_accuracy: 0.9747\n",
      "Epoch 20/30\n",
      " - 1s - loss: 0.0151 - accuracy: 0.9972 - val_loss: 0.0841 - val_accuracy: 0.9753\n",
      "Epoch 21/30\n",
      " - 1s - loss: 0.0129 - accuracy: 0.9979 - val_loss: 0.0853 - val_accuracy: 0.9762\n",
      "Epoch 22/30\n",
      " - 1s - loss: 0.0115 - accuracy: 0.9982 - val_loss: 0.0854 - val_accuracy: 0.9768\n",
      "Epoch 23/30\n",
      " - 1s - loss: 0.0102 - accuracy: 0.9984 - val_loss: 0.0881 - val_accuracy: 0.9762\n",
      "Epoch 24/30\n",
      " - 1s - loss: 0.0084 - accuracy: 0.9988 - val_loss: 0.0852 - val_accuracy: 0.9764\n",
      "Epoch 25/30\n",
      " - 1s - loss: 0.0069 - accuracy: 0.9993 - val_loss: 0.0878 - val_accuracy: 0.9753\n",
      "Epoch 26/30\n",
      " - 1s - loss: 0.0059 - accuracy: 0.9995 - val_loss: 0.0888 - val_accuracy: 0.9763\n",
      "Epoch 27/30\n",
      " - 1s - loss: 0.0052 - accuracy: 0.9995 - val_loss: 0.0879 - val_accuracy: 0.9764\n",
      "Epoch 28/30\n",
      " - 1s - loss: 0.0044 - accuracy: 0.9997 - val_loss: 0.0922 - val_accuracy: 0.9761\n",
      "Epoch 29/30\n",
      " - 1s - loss: 0.0041 - accuracy: 0.9997 - val_loss: 0.0917 - val_accuracy: 0.9760\n",
      "Epoch 30/30\n",
      " - 1s - loss: 0.0033 - accuracy: 0.9998 - val_loss: 0.0921 - val_accuracy: 0.9769\n"
     ]
    }
   ],
   "source": [
    "train_history = model.fit(x=x_train_normalize,\n",
    "                          y=y_train_onehot,\n",
    "                          validation_split=0.2,\n",
    "                          epochs=30,\n",
    "                          batch_size=300,\n",
    "                          verbose=2)"
   ]
  },
  {
   "cell_type": "code",
   "execution_count": 5,
   "id": "30fe12e8",
   "metadata": {},
   "outputs": [],
   "source": [
    "def show_train_history(tr_history, train, valid):\n",
    "    plt.plot(tr_history.history[train])\n",
    "    plt.plot(tr_history.history[valid])\n",
    "    plt.title('Train History')\n",
    "    plt.xlabel('epoch'); plt.ylabel(train)\n",
    "    plt.legend(['train', 'validation'], loc='upper left')"
   ]
  },
  {
   "cell_type": "code",
   "execution_count": 71,
   "id": "65c92635",
   "metadata": {},
   "outputs": [
    {
     "data": {
      "image/png": "[encoded data removed]",
      "text/plain": [
       "<Figure size 1080x360 with 2 Axes>"
      ]
     },
     "metadata": {
      "needs_background": "light"
     },
     "output_type": "display_data"
    }
   ],
   "source": [
    "plt.figure(figsize=(15,5))\n",
    "plt.subplot(121); show_train_history(train_history, 'accuracy', 'val_accuracy')\n",
    "plt.subplot(122); show_train_history(train_history, 'loss', 'val_loss')\n",
    "plt.show()"
   ]
  },
  {
   "cell_type": "code",
   "execution_count": 72,
   "id": "602bd76d",
   "metadata": {},
   "outputs": [
    {
     "name": "stdout",
     "output_type": "stream",
     "text": [
      "10000/10000 [==============================] - 0s 22us/step\n",
      "lose =  0.07977695041767147\n",
      "accuracy =  0.9781000018119812\n"
     ]
    }
   ],
   "source": [
    "scores = model.evaluate(x_test_normalize, y_test_onehot)\n",
    "print('lose = ', scores[0])\n",
    "print('accuracy = ', scores[1])"
   ]
  },
  {
   "cell_type": "code",
   "execution_count": null,
   "id": "37a5cf00",
   "metadata": {},
   "outputs": [],
   "source": [
    "model.save('model/mdl_20220314.h5')"
   ]
  }
 ],
 "metadata": {
  "kernelspec": {
   "display_name": "Python 3 (ipykernel)",
   "language": "python",
   "name": "python3"
  },
  "language_info": {
   "codemirror_mode": {
    "name": "ipython",
    "version": 3
   },
   "file_extension": ".py",
   "mimetype": "text/x-python",
   "name": "python",
   "nbconvert_exporter": "python",
   "pygments_lexer": "ipython3",
   "version": "3.7.11"
  }
 },
 "nbformat": 4,
 "nbformat_minor": 5
}
