{
 "cells": [
  {
   "cell_type": "code",
   "execution_count": 1,
   "id": "d824e1c8",
   "metadata": {},
   "outputs": [],
   "source": [
    "from keras.datasets import mnist\n",
    "from keras.utils import np_utils"
   ]
  },
  {
   "cell_type": "code",
   "execution_count": 2,
   "id": "36835ebd",
   "metadata": {},
   "outputs": [],
   "source": [
    "(x_train, y_train), (x_test, y_test) = mnist.load_data()"
   ]
  },
  {
   "cell_type": "code",
   "execution_count": 3,
   "id": "e01e1298",
   "metadata": {},
   "outputs": [],
   "source": [
    "x_train4D = x_train.reshape(x_train.shape[0], 28, 28, 1).astype('float32')\n",
    "x_test4D = x_test.reshape(x_test.shape[0], 28, 28, 1).astype('float32')"
   ]
  },
  {
   "cell_type": "code",
   "execution_count": 4,
   "id": "a8bf75b4",
   "metadata": {},
   "outputs": [],
   "source": [
    "x_train4D_normalize = x_train4D / 255\n",
    "x_test4D_normalize = x_test4D / 255"
   ]
  },
  {
   "cell_type": "code",
   "execution_count": 5,
   "id": "3db84740",
   "metadata": {},
   "outputs": [],
   "source": [
    "y_train_onehot = np_utils.to_categorical(y_train)\n",
    "y_test_onehot = np_utils.to_categorical(y_test)"
   ]
  },
  {
   "cell_type": "code",
   "execution_count": 6,
   "id": "9794c492",
   "metadata": {},
   "outputs": [],
   "source": [
    "from keras.models import Sequential\n",
    "from keras.layers import Dense, Dropout, Flatten, Conv2D, MaxPooling2D"
   ]
  },
  {
   "cell_type": "code",
   "execution_count": 64,
   "id": "5933ece7",
   "metadata": {},
   "outputs": [
    {
     "name": "stdout",
     "output_type": "stream",
     "text": [
      "Model: \"CNN\"\n",
      "_________________________________________________________________\n",
      "Layer (type)                 Output Shape              Param #   \n",
      "=================================================================\n",
      "conv2d_22 (Conv2D)           (None, 28, 28, 12)        120       \n",
      "_________________________________________________________________\n",
      "max_pooling2d_22 (MaxPooling (None, 14, 14, 12)        0         \n",
      "_________________________________________________________________\n",
      "conv2d_23 (Conv2D)           (None, 14, 14, 40)        4360      \n",
      "_________________________________________________________________\n",
      "max_pooling2d_23 (MaxPooling (None, 7, 7, 40)          0         \n",
      "_________________________________________________________________\n",
      "dropout_22 (Dropout)         (None, 7, 7, 40)          0         \n",
      "_________________________________________________________________\n",
      "flatten_11 (Flatten)         (None, 1960)              0         \n",
      "_________________________________________________________________\n",
      "dense_22 (Dense)             (None, 128)               251008    \n",
      "_________________________________________________________________\n",
      "dropout_23 (Dropout)         (None, 128)               0         \n",
      "_________________________________________________________________\n",
      "dense_23 (Dense)             (None, 10)                1290      \n",
      "=================================================================\n",
      "Total params: 256,778\n",
      "Trainable params: 256,778\n",
      "Non-trainable params: 0\n",
      "_________________________________________________________________\n",
      "None\n"
     ]
    }
   ],
   "source": [
    "model = Sequential(name='CNN')\n",
    "\n",
    "model.add(Conv2D(filters=12,\n",
    "                 kernel_size=(3, 3),\n",
    "                 padding='same',\n",
    "                 input_shape=(28, 28, 1),\n",
    "                 activation='relu'))\n",
    "model.add(MaxPooling2D(pool_size=(2, 2)))\n",
    "\n",
    "model.add(Conv2D(filters=40,\n",
    "                 kernel_size=(3, 3),\n",
    "                 padding='same',\n",
    "                 activation='relu'))\n",
    "model.add(MaxPooling2D(pool_size=(2, 2)))\n",
    "model.add(Dropout(0.25))\n",
    "\n",
    "model.add(Flatten())\n",
    "model.add(Dense(128, activation='relu'))\n",
    "model.add(Dropout(0.5))\n",
    "\n",
    "model.add(Dense(10, activation='softmax'))\n",
    "print(model.summary())"
   ]
  },
  {
   "cell_type": "code",
   "execution_count": 65,
   "id": "f1d88abe",
   "metadata": {},
   "outputs": [],
   "source": [
    "model.compile(loss='categorical_crossentropy',\n",
    "              optimizer='adam',\n",
    "              metrics=['accuracy'])"
   ]
  },
  {
   "cell_type": "code",
   "execution_count": 66,
   "id": "d3cc658d",
   "metadata": {
    "scrolled": true
   },
   "outputs": [
    {
     "name": "stdout",
     "output_type": "stream",
     "text": [
      "Epoch 1/12\n",
      "160/160 - 2s - loss: 0.5783 - accuracy: 0.8208 - val_loss: 0.1323 - val_accuracy: 0.9633\n",
      "Epoch 2/12\n",
      "160/160 - 1s - loss: 0.1721 - accuracy: 0.9473 - val_loss: 0.0805 - val_accuracy: 0.9761\n",
      "Epoch 3/12\n",
      "160/160 - 1s - loss: 0.1207 - accuracy: 0.9636 - val_loss: 0.0634 - val_accuracy: 0.9822\n",
      "Epoch 4/12\n",
      "160/160 - 1s - loss: 0.0983 - accuracy: 0.9700 - val_loss: 0.0544 - val_accuracy: 0.9839\n",
      "Epoch 5/12\n",
      "160/160 - 1s - loss: 0.0824 - accuracy: 0.9749 - val_loss: 0.0488 - val_accuracy: 0.9859\n",
      "Epoch 6/12\n",
      "160/160 - 1s - loss: 0.0728 - accuracy: 0.9781 - val_loss: 0.0446 - val_accuracy: 0.9870\n",
      "Epoch 7/12\n",
      "160/160 - 1s - loss: 0.0659 - accuracy: 0.9802 - val_loss: 0.0405 - val_accuracy: 0.9887\n",
      "Epoch 8/12\n",
      "160/160 - 1s - loss: 0.0623 - accuracy: 0.9808 - val_loss: 0.0421 - val_accuracy: 0.9878\n",
      "Epoch 9/12\n",
      "160/160 - 1s - loss: 0.0554 - accuracy: 0.9828 - val_loss: 0.0404 - val_accuracy: 0.9883\n",
      "Epoch 10/12\n",
      "160/160 - 0s - loss: 0.0515 - accuracy: 0.9838 - val_loss: 0.0366 - val_accuracy: 0.9891\n",
      "Epoch 11/12\n",
      "160/160 - 1s - loss: 0.0490 - accuracy: 0.9849 - val_loss: 0.0356 - val_accuracy: 0.9902\n",
      "Epoch 12/12\n",
      "160/160 - 0s - loss: 0.0456 - accuracy: 0.9857 - val_loss: 0.0348 - val_accuracy: 0.9904\n"
     ]
    }
   ],
   "source": [
    "train_history = model.fit(x=x_train4D_normalize,\n",
    "                          y=y_train_onehot,\n",
    "                          validation_split=0.2,\n",
    "                          epochs=12,\n",
    "                          batch_size=300,\n",
    "                          verbose=2)"
   ]
  },
  {
   "cell_type": "code",
   "execution_count": 18,
   "id": "30fe12e8",
   "metadata": {},
   "outputs": [],
   "source": [
    "import matplotlib.pyplot as plt\n",
    "def show_train_history(tr_history, train, valid):\n",
    "    plt.plot(tr_history.history[train])\n",
    "    plt.plot(tr_history.history[valid])\n",
    "    plt.title('Train History')\n",
    "    plt.xlabel('epoch'); plt.ylabel(train)\n",
    "    plt.legend(['train', 'validation'], loc='upper left')"
   ]
  },
  {
   "cell_type": "code",
   "execution_count": 67,
   "id": "65c92635",
   "metadata": {},
   "outputs": [
    {
     "data": {
      "image/png": "[encoded data removed]",
      "text/plain": [
       "<Figure size 1080x360 with 2 Axes>"
      ]
     },
     "metadata": {
      "needs_background": "light"
     },
     "output_type": "display_data"
    }
   ],
   "source": [
    "plt.figure(figsize=(15,5))\n",
    "plt.subplot(121); show_train_history(train_history, 'accuracy', 'val_accuracy')\n",
    "plt.subplot(122); show_train_history(train_history, 'loss', 'val_loss')\n",
    "plt.show()"
   ]
  },
  {
   "cell_type": "code",
   "execution_count": 68,
   "id": "602bd76d",
   "metadata": {},
   "outputs": [
    {
     "name": "stdout",
     "output_type": "stream",
     "text": [
      "313/313 [==============================] - 1s 2ms/step - loss: 0.0273 - accuracy: 0.9912\n",
      "lose = 0.027332449331879616\n",
      "accuracy = 0.9911999702453613\n"
     ]
    }
   ],
   "source": [
    "scores = model.evaluate(x_test4D_normalize, y_test_onehot)\n",
    "print('lose =', scores[0])\n",
    "print('accuracy =', scores[1])"
   ]
  },
  {
   "cell_type": "code",
   "execution_count": 69,
   "id": "37a5cf00",
   "metadata": {},
   "outputs": [],
   "source": [
    "model.save('model/mdl_20220321.h5')"
   ]
  }
 ],
 "metadata": {
  "kernelspec": {
   "display_name": "Python 3 (ipykernel)",
   "language": "python",
   "name": "python3"
  },
  "language_info": {
   "codemirror_mode": {
    "name": "ipython",
    "version": 3
   },
   "file_extension": ".py",
   "mimetype": "text/x-python",
   "name": "python",
   "nbconvert_exporter": "python",
   "pygments_lexer": "ipython3",
   "version": "3.7.11"
  }
 },
 "nbformat": 4,
 "nbformat_minor": 5
}
