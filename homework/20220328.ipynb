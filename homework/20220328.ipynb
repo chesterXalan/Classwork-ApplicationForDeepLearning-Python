{
 "cells": [
  {
   "cell_type": "code",
   "execution_count": 6,
   "id": "d824e1c8",
   "metadata": {},
   "outputs": [],
   "source": [
    "from keras.datasets import mnist\n",
    "from keras.utils import np_utils\n",
    "import numpy as np"
   ]
  },
  {
   "cell_type": "code",
   "execution_count": 7,
   "id": "8390a586",
   "metadata": {},
   "outputs": [],
   "source": [
    "def selectLabel(ip_image, ip_label):\n",
    "    op_image, op_label = [], []\n",
    "    for i, label in enumerate(ip_label):\n",
    "        if label in [3, 5]:\n",
    "            op_image.append(ip_image[i])\n",
    "            op_label.append(label)\n",
    "    return np.array(op_image), np.array(op_label)"
   ]
  },
  {
   "cell_type": "code",
   "execution_count": 8,
   "id": "36835ebd",
   "metadata": {},
   "outputs": [
    {
     "name": "stdout",
     "output_type": "stream",
     "text": [
      "train: 11552\n",
      "test: 1902\n"
     ]
    }
   ],
   "source": [
    "(x_train, y_train), (x_test, y_test) = mnist.load_data()\n",
    "x_train, y_train = selectLabel(x_train, y_train)\n",
    "x_test, y_test = selectLabel(x_test, y_test)\n",
    "print('train:', len(x_train))\n",
    "print('test:', len(x_test))"
   ]
  },
  {
   "cell_type": "code",
   "execution_count": 9,
   "id": "e01e1298",
   "metadata": {},
   "outputs": [],
   "source": [
    "x_train4D = x_train.reshape(x_train.shape[0], 28, 28, 1).astype('float32')\n",
    "x_test4D = x_test.reshape(x_test.shape[0], 28, 28, 1).astype('float32')\n",
    "\n",
    "x_train4D_normalize = x_train4D / 255\n",
    "x_test4D_normalize = x_test4D / 255\n",
    "\n",
    "y_train_onehot = np_utils.to_categorical(y_train)\n",
    "y_test_onehot = np_utils.to_categorical(y_test)"
   ]
  },
  {
   "cell_type": "code",
   "execution_count": null,
   "id": "6531388f",
   "metadata": {},
   "outputs": [],
   "source": [
    "from keras.models import Sequential\n",
    "from keras.layers import Dense, Dropout, Flatten, Conv2D, MaxPooling2D"
   ]
  },
  {
   "cell_type": "code",
   "execution_count": 65,
   "id": "5933ece7",
   "metadata": {},
   "outputs": [
    {
     "name": "stdout",
     "output_type": "stream",
     "text": [
      "Model: \"CNN\"\n",
      "_________________________________________________________________\n",
      "Layer (type)                 Output Shape              Param #   \n",
      "=================================================================\n",
      "conv2d_17 (Conv2D)           (None, 28, 28, 16)        160       \n",
      "_________________________________________________________________\n",
      "max_pooling2d_17 (MaxPooling (None, 14, 14, 16)        0         \n",
      "_________________________________________________________________\n",
      "conv2d_18 (Conv2D)           (None, 14, 14, 42)        6090      \n",
      "_________________________________________________________________\n",
      "max_pooling2d_18 (MaxPooling (None, 7, 7, 42)          0         \n",
      "_________________________________________________________________\n",
      "dropout_17 (Dropout)         (None, 7, 7, 42)          0         \n",
      "_________________________________________________________________\n",
      "flatten_9 (Flatten)          (None, 2058)              0         \n",
      "_________________________________________________________________\n",
      "dense_17 (Dense)             (None, 128)               263552    \n",
      "_________________________________________________________________\n",
      "dropout_18 (Dropout)         (None, 128)               0         \n",
      "_________________________________________________________________\n",
      "dense_18 (Dense)             (None, 6)                 774       \n",
      "=================================================================\n",
      "Total params: 270,576\n",
      "Trainable params: 270,576\n",
      "Non-trainable params: 0\n",
      "_________________________________________________________________\n",
      "None\n"
     ]
    }
   ],
   "source": [
    "model = Sequential(name='CNN')\n",
    "\n",
    "model.add(Conv2D(filters=16,\n",
    "                 kernel_size=(3, 3),\n",
    "                 padding='same',\n",
    "                 input_shape=(28, 28, 1),\n",
    "                 activation='relu'))\n",
    "model.add(MaxPooling2D(pool_size=(2, 2)))\n",
    "\n",
    "model.add(Conv2D(filters=42,\n",
    "                 kernel_size=(3, 3),\n",
    "                 padding='same',\n",
    "                 activation='relu'))\n",
    "model.add(MaxPooling2D(pool_size=(2, 2)))\n",
    "model.add(Dropout(0.25))\n",
    "\n",
    "model.add(Flatten())\n",
    "model.add(Dense(128, activation='relu'))\n",
    "model.add(Dropout(0.5))\n",
    "\n",
    "model.add(Dense(6, activation='softmax')) # only 3 and 5, so it's [0 0 0 1 0 1]\n",
    "print(model.summary())"
   ]
  },
  {
   "cell_type": "code",
   "execution_count": 66,
   "id": "f1d88abe",
   "metadata": {},
   "outputs": [],
   "source": [
    "model.compile(loss='categorical_crossentropy',\n",
    "              optimizer='adam',\n",
    "              metrics=['accuracy'])"
   ]
  },
  {
   "cell_type": "code",
   "execution_count": 67,
   "id": "d3cc658d",
   "metadata": {
    "scrolled": true
   },
   "outputs": [
    {
     "name": "stdout",
     "output_type": "stream",
     "text": [
      "Train on 9241 samples, validate on 2311 samples\n",
      "Epoch 1/10\n",
      " - 2s - loss: 0.5404 - accuracy: 0.7848 - val_loss: 0.1493 - val_accuracy: 0.9485\n",
      "Epoch 2/10\n",
      " - 2s - loss: 0.1329 - accuracy: 0.9517 - val_loss: 0.0735 - val_accuracy: 0.9723\n",
      "Epoch 3/10\n",
      " - 2s - loss: 0.0681 - accuracy: 0.9753 - val_loss: 0.0485 - val_accuracy: 0.9801\n",
      "Epoch 4/10\n",
      " - 2s - loss: 0.0445 - accuracy: 0.9859 - val_loss: 0.0354 - val_accuracy: 0.9866\n",
      "Epoch 5/10\n",
      " - 2s - loss: 0.0301 - accuracy: 0.9897 - val_loss: 0.0315 - val_accuracy: 0.9883\n",
      "Epoch 6/10\n",
      " - 2s - loss: 0.0250 - accuracy: 0.9926 - val_loss: 0.0292 - val_accuracy: 0.9887\n",
      "Epoch 7/10\n",
      " - 2s - loss: 0.0216 - accuracy: 0.9927 - val_loss: 0.0293 - val_accuracy: 0.9900\n",
      "Epoch 8/10\n",
      " - 2s - loss: 0.0191 - accuracy: 0.9944 - val_loss: 0.0222 - val_accuracy: 0.9922\n",
      "Epoch 9/10\n",
      " - 2s - loss: 0.0174 - accuracy: 0.9952 - val_loss: 0.0227 - val_accuracy: 0.9922\n",
      "Epoch 10/10\n",
      " - 2s - loss: 0.0151 - accuracy: 0.9961 - val_loss: 0.0190 - val_accuracy: 0.9922\n"
     ]
    }
   ],
   "source": [
    "train_history = model.fit(x=x_train4D_normalize,\n",
    "                          y=y_train_onehot,\n",
    "                          validation_split=0.2,\n",
    "                          epochs=10,\n",
    "                          batch_size=300,\n",
    "                          verbose=2)"
   ]
  },
  {
   "cell_type": "code",
   "execution_count": null,
   "id": "9bf03c99",
   "metadata": {},
   "outputs": [],
   "source": [
    "import matplotlib.pyplot as plt\n",
    "import pandas as pd"
   ]
  },
  {
   "cell_type": "code",
   "execution_count": 41,
   "id": "30fe12e8",
   "metadata": {},
   "outputs": [],
   "source": [
    "def show_train_history(tr_history, train, valid):\n",
    "    plt.plot(tr_history.history[train])\n",
    "    plt.plot(tr_history.history[valid])\n",
    "    plt.title('Train History')\n",
    "    plt.xlabel('epoch'); plt.ylabel(train)\n",
    "    plt.legend(['train', 'validation'], loc='upper left')"
   ]
  },
  {
   "cell_type": "code",
   "execution_count": 68,
   "id": "65c92635",
   "metadata": {},
   "outputs": [
    {
     "data": {
      "image/png": "[encoded data removed]",
      "text/plain": [
       "<Figure size 1080x360 with 2 Axes>"
      ]
     },
     "metadata": {
      "needs_background": "light"
     },
     "output_type": "display_data"
    }
   ],
   "source": [
    "plt.figure(figsize=(15,5))\n",
    "plt.subplot(121); show_train_history(train_history, 'accuracy', 'val_accuracy')\n",
    "plt.subplot(122); show_train_history(train_history, 'loss', 'val_loss')\n",
    "plt.show()"
   ]
  },
  {
   "cell_type": "code",
   "execution_count": 69,
   "id": "602bd76d",
   "metadata": {},
   "outputs": [
    {
     "name": "stdout",
     "output_type": "stream",
     "text": [
      "1902/1902 [==============================] - 0s 62us/step\n",
      "lose = 0.010963381554715464\n",
      "accuracy = 0.9973711967468262\n"
     ]
    }
   ],
   "source": [
    "scores = model.evaluate(x_test4D_normalize, y_test_onehot)\n",
    "print('lose =', scores[0])\n",
    "print('accuracy =', scores[1])"
   ]
  },
  {
   "cell_type": "code",
   "execution_count": 70,
   "id": "ba889885",
   "metadata": {},
   "outputs": [
    {
     "data": {
      "text/html": [
       "<div>\n",
       "<style scoped>\n",
       "    .dataframe tbody tr th:only-of-type {\n",
       "        vertical-align: middle;\n",
       "    }\n",
       "\n",
       "    .dataframe tbody tr th {\n",
       "        vertical-align: top;\n",
       "    }\n",
       "\n",
       "    .dataframe thead th {\n",
       "        text-align: right;\n",
       "    }\n",
       "</style>\n",
       "<table border=\"1\" class=\"dataframe\">\n",
       "  <thead>\n",
       "    <tr style=\"text-align: right;\">\n",
       "      <th>predict</th>\n",
       "      <th>3</th>\n",
       "      <th>5</th>\n",
       "    </tr>\n",
       "    <tr>\n",
       "      <th>label</th>\n",
       "      <th></th>\n",
       "      <th></th>\n",
       "    </tr>\n",
       "  </thead>\n",
       "  <tbody>\n",
       "    <tr>\n",
       "      <th>3</th>\n",
       "      <td>1008</td>\n",
       "      <td>2</td>\n",
       "    </tr>\n",
       "    <tr>\n",
       "      <th>5</th>\n",
       "      <td>3</td>\n",
       "      <td>889</td>\n",
       "    </tr>\n",
       "  </tbody>\n",
       "</table>\n",
       "</div>"
      ],
      "text/plain": [
       "predict     3    5\n",
       "label             \n",
       "3        1008    2\n",
       "5           3  889"
      ]
     },
     "execution_count": 70,
     "metadata": {},
     "output_type": "execute_result"
    }
   ],
   "source": [
    "prediction = model.predict_classes(x_test4D_normalize)\n",
    "pd.crosstab(y_test, prediction, rownames=['label'], colnames=['predict'])"
   ]
  },
  {
   "cell_type": "code",
   "execution_count": 71,
   "id": "37a5cf00",
   "metadata": {},
   "outputs": [],
   "source": [
    "model.save('model/mdl_20220328.h5')"
   ]
  }
 ],
 "metadata": {
  "kernelspec": {
   "display_name": "Python 3 (ipykernel)",
   "language": "python",
   "name": "python3"
  },
  "language_info": {
   "codemirror_mode": {
    "name": "ipython",
    "version": 3
   },
   "file_extension": ".py",
   "mimetype": "text/x-python",
   "name": "python",
   "nbconvert_exporter": "python",
   "pygments_lexer": "ipython3",
   "version": "3.7.11"
  }
 },
 "nbformat": 4,
 "nbformat_minor": 5
}
